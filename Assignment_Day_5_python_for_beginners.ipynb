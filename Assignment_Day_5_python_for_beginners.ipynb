{
  "nbformat": 4,
  "nbformat_minor": 0,
  "metadata": {
    "colab": {
      "name": "Assignment_Day 5_python for beginners.ipynb",
      "provenance": [],
      "collapsed_sections": [],
      "authorship_tag": "ABX9TyMAKIPW9V2rmxWbS6xr0TpL",
      "include_colab_link": true
    },
    "kernelspec": {
      "name": "python3",
      "display_name": "Python 3"
    },
    "language_info": {
      "name": "python"
    }
  },
  "cells": [
    {
      "cell_type": "markdown",
      "metadata": {
        "id": "view-in-github",
        "colab_type": "text"
      },
      "source": [
        "<a href=\"https://colab.research.google.com/github/Ansarafsar/Letsupgrade-Assignment/blob/main/Assignment_Day_5_python_for_beginners.ipynb\" target=\"_parent\"><img src=\"https://colab.research.google.com/assets/colab-badge.svg\" alt=\"Open In Colab\"/></a>"
      ]
    },
    {
      "cell_type": "code",
      "metadata": {
        "colab": {
          "base_uri": "https://localhost:8080/"
        },
        "id": "szv3_cpbJ2wd",
        "outputId": "3aab45c5-a1f3-4be9-a396-db768bedee34"
      },
      "source": [
        "number = int(input(\"Enter any number: \"))\n",
        "\n",
        "# prime number is always greater than 1\n",
        "if number > 1:\n",
        "    for i in range(2, number):\n",
        "        if (number % i) == 0:\n",
        "            print(number, \"is not a prime number\")\n",
        "            break\n",
        "    else:\n",
        "        print(number, \"is a prime number\")\n",
        "\n",
        "# if the entered number is less than or equal to 1\n",
        "# then it is not prime number\n",
        "else:\n",
        "    print(number, \"is not a prime number\")\n"
      ],
      "execution_count": 3,
      "outputs": [
        {
          "output_type": "stream",
          "text": [
            "Enter any number: 11\n",
            "11 is a prime number\n"
          ],
          "name": "stdout"
        }
      ]
    }
  ]
}